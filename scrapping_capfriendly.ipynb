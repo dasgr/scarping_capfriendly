{
 "cells": [
  {
   "cell_type": "markdown",
   "source": "# Scrapping the main table",
   "metadata": {
    "is_collapsed": false,
    "cell_id": "8a9825baf791452da3fff3e7d7b25797",
    "tags": [],
    "formattedRanges": [],
    "deepnote_cell_type": "text-cell-h1"
   }
  },
  {
   "cell_type": "markdown",
   "source": "We will get the players' stats and salaries by going through this notebook.",
   "metadata": {
    "is_collapsed": false,
    "cell_id": "c458b7f6-8b06-4cf4-8a34-d429388c5ff7",
    "tags": [],
    "formattedRanges": [],
    "deepnote_cell_type": "text-cell-p"
   }
  },
  {
   "cell_type": "markdown",
   "source": "At first, we need to set all needed filters and conditions on players. Then we will use the resulting URL to get data.",
   "metadata": {
    "is_collapsed": false,
    "cell_id": "ec897397-de13-4089-9bd7-47f3e828d394",
    "tags": [],
    "formattedRanges": [],
    "deepnote_cell_type": "text-cell-p"
   }
  },
  {
   "cell_type": "markdown",
   "source": "For example, I will scrap all the players through last 5 seasons. ",
   "metadata": {
    "is_collapsed": false,
    "cell_id": "2dacce521d914268867e2b3fcfe2899d",
    "tags": [],
    "formattedRanges": [],
    "deepnote_cell_type": "text-cell-p"
   }
  },
  {
   "cell_type": "markdown",
   "source": "As I need data season-by-season I am going to start from the last season to the earliest I need.",
   "metadata": {
    "is_collapsed": false,
    "cell_id": "f1c3a63adaee4cf98cc3633667c09062",
    "tags": [],
    "formattedRanges": [],
    "deepnote_cell_type": "text-cell-p"
   }
  },
  {
   "cell_type": "markdown",
   "source": "This link will allow me to download data for the 2020-2021 season with all parameters specified.",
   "metadata": {
    "is_collapsed": false,
    "cell_id": "d220fa9b-ffc7-48d9-a467-9ae53f38b1aa",
    "tags": [],
    "formattedRanges": [
     {
      "type": "link",
      "url": "https://www.capfriendly.com/browse/active/2021?stats-season=2022&display=birthday,country,weightkg,heightcm,draft,slide-candidate,signing-status,expiry-year,performance-bonus,caphit-percent,aav,length,minors-salary,base-salary,skater-individual-advanced-stats,skater-on-ice-advanced-stats,goalie-advanced-stats,type,signing-age,signing-date,arbitration,extension",
      "fromCodePoint": 0,
      "toCodePoint": 96,
      "ranges": []
     }
    ],
    "deepnote_cell_type": "text-cell-p"
   }
  },
  {
   "cell_type": "markdown",
   "source": "Let's do some coding now.",
   "metadata": {
    "is_collapsed": false,
    "cell_id": "054210b420cd40b7891f368e599b2426",
    "tags": [],
    "formattedRanges": [],
    "deepnote_cell_type": "text-cell-p"
   }
  },
  {
   "cell_type": "code",
   "source": "import requests\nfrom bs4 import BeautifulSoup\nimport pandas as pd\nimport time\nimport logging",
   "metadata": {
    "cell_id": "e24af85c06a146aca5fff3c9568de60b",
    "tags": [],
    "deepnote_to_be_reexecuted": false,
    "source_hash": "a990b347",
    "execution_start": 1664369790363,
    "execution_millis": 2,
    "deepnote_cell_type": "code",
    "deepnote_cell_height": 148
   },
   "outputs": [],
   "execution_count": 67
  },
  {
   "cell_type": "code",
   "source": "req = requests.get(\"https://www.capfriendly.com/browse/active/2022?stats-season=2022&display=birthday,country,weightkg,heightcm,draft,slide-candidate,signing-status,expiry-year,performance-bonus,caphit-percent,aav,length,minors-salary,base-salary,skater-individual-advanced-stats,skater-on-ice-advanced-stats,goalie-advanced-stats,type,signing-age,signing-date,arbitration,extension&limits=gp-5-90\")\nsoup = BeautifulSoup(req.content)\n",
   "metadata": {
    "cell_id": "03b4bba344aa41c4916fbf1183e4b290",
    "tags": [],
    "deepnote_to_be_reexecuted": false,
    "source_hash": "ac207453",
    "execution_start": 1664368535196,
    "execution_millis": 260,
    "deepnote_cell_type": "code",
    "deepnote_cell_height": 117
   },
   "outputs": [],
   "execution_count": 34
  },
  {
   "cell_type": "code",
   "source": "info_about_lists = soup.find_all(\"a\", {\"class\": \"whi pagin_r\"})\nlast_list_num = int(info_about_lists[-1][\"data-val\"])  # take the last number of page from date-val",
   "metadata": {
    "cell_id": "b670a6d662e74e0ea5780da1c2060fc8",
    "tags": [],
    "deepnote_to_be_reexecuted": false,
    "source_hash": "b86f1d46",
    "execution_start": 1664368851765,
    "execution_millis": 1,
    "deepnote_cell_type": "code",
    "deepnote_cell_height": 94,
    "deepnote_output_heights": [
     248
    ]
   },
   "outputs": [],
   "execution_count": 53
  },
  {
   "cell_type": "code",
   "source": "dfs_array = []\nfor page_num in range(1, last_list_num + 1):\n\n    time.sleep(2)  # let the page download the results\n\n    url = f\"https://www.capfriendly.com/browse/active/2022?stats-season=2022&display=birthday,country,weightkg,heightcm,draft,slide-candidate,signing-status,expiry-year,performance-bonus,caphit-percent,aav,length,minors-salary,base-salary,skater-individual-advanced-stats,skater-on-ice-advanced-stats,goalie-advanced-stats,type,signing-age,signing-date,arbitration,extension&limits=gp-5-90&pg={page_num}\"\n    df = pd.read_html(url, header=0, index_col = 0, na_values=[\"-\"])[0]\n\n    dfs_array.append(df)",
   "metadata": {
    "cell_id": "885333f84914449cbac880338ec02a81",
    "tags": [],
    "deepnote_to_be_reexecuted": false,
    "source_hash": "82dc5fd4",
    "execution_start": 1664368923966,
    "execution_millis": 43392,
    "deepnote_cell_type": "code",
    "deepnote_cell_height": 225
   },
   "outputs": [],
   "execution_count": 58
  },
  {
   "cell_type": "code",
   "source": "result_df = pd.concat(dfs_array)",
   "metadata": {
    "cell_id": "be16844b81dc40cbb966925933f6fa4b",
    "tags": [],
    "deepnote_to_be_reexecuted": false,
    "source_hash": "48664ac9",
    "execution_start": 1664369125107,
    "execution_millis": 91,
    "deepnote_cell_type": "code",
    "deepnote_cell_height": 76,
    "deepnote_output_heights": [
     115
    ]
   },
   "outputs": [],
   "execution_count": 63
  },
  {
   "cell_type": "code",
   "source": "result_df.shape",
   "metadata": {
    "cell_id": "478f9c98a1314d03ba128fcf48d2331f",
    "tags": [],
    "deepnote_to_be_reexecuted": false,
    "source_hash": "8fa15fe0",
    "execution_start": 1664369125076,
    "execution_millis": 1462,
    "deepnote_cell_type": "code",
    "deepnote_cell_height": 112,
    "deepnote_output_heights": [
     20
    ]
   },
   "outputs": [
    {
     "output_type": "execute_result",
     "execution_count": 62,
     "data": {
      "text/plain": "(978, 65)"
     },
     "metadata": {}
    }
   ],
   "execution_count": 62
  },
  {
   "cell_type": "code",
   "source": "result_df.head()",
   "metadata": {
    "cell_id": "a0c03df976c643329507334cd8d8e863",
    "tags": [],
    "deepnote_to_be_reexecuted": false,
    "source_hash": "b21d2d72",
    "execution_start": 1664369147184,
    "execution_millis": 93,
    "deepnote_cell_type": "code",
    "deepnote_cell_height": 405
   },
   "outputs": [
    {
     "output_type": "execute_result",
     "execution_count": 64,
     "data": {
      "application/vnd.deepnote.dataframe.v3+json": {
       "column_count": 65,
       "row_count": 5,
       "columns": [
        {
         "name": "TEAM",
         "dtype": "object",
         "stats": {
          "unique_count": 4,
          "nan_count": 0,
          "categories": [
           {
            "name": "TOR",
            "count": 2
           },
           {
            "name": "EDM",
            "count": 1
           },
           {
            "name": "2 others",
            "count": 2
           }
          ]
         }
        },
        {
         "name": "AGE",
         "dtype": "int64",
         "stats": {
          "unique_count": 5,
          "nan_count": 0,
          "min": "23",
          "max": "31",
          "histogram": [
           {
            "bin_start": 23,
            "bin_end": 23.8,
            "count": 1
           },
           {
            "bin_start": 23.8,
            "bin_end": 24.6,
            "count": 1
           },
           {
            "bin_start": 24.6,
            "bin_end": 25.4,
            "count": 0
           },
           {
            "bin_start": 25.4,
            "bin_end": 26.2,
            "count": 0
           },
           {
            "bin_start": 26.2,
            "bin_end": 27,
            "count": 0
           },
           {
            "bin_start": 27,
            "bin_end": 27.8,
            "count": 0
           },
           {
            "bin_start": 27.8,
            "bin_end": 28.6,
            "count": 0
           },
           {
            "bin_start": 28.6,
            "bin_end": 29.4,
            "count": 1
           },
           {
            "bin_start": 29.4,
            "bin_end": 30.2,
            "count": 1
           },
           {
            "bin_start": 30.2,
            "bin_end": 31,
            "count": 1
           }
          ]
         }
        },
        {
         "name": "DATE OF BIRTH",
         "dtype": "object",
         "stats": {
          "unique_count": 5,
          "nan_count": 0,
          "categories": [
           {
            "name": "Jan. 13, 1997",
            "count": 1
           },
           {
            "name": "Oct. 30, 1991",
            "count": 1
           },
           {
            "name": "3 others",
            "count": 3
           }
          ]
         }
        },
        {
         "name": "COUNTRY",
         "dtype": "object",
         "stats": {
          "unique_count": 4,
          "nan_count": 0,
          "categories": [
           {
            "name": "Canada",
            "count": 2
           },
           {
            "name": "Russia",
            "count": 1
           },
           {
            "name": "2 others",
            "count": 2
           }
          ]
         }
        },
        {
         "name": "WEIGHT",
         "dtype": "int64",
         "stats": {
          "unique_count": 5,
          "nan_count": 0,
          "min": "77",
          "max": "100",
          "histogram": [
           {
            "bin_start": 77,
            "bin_end": 79.3,
            "count": 1
           },
           {
            "bin_start": 79.3,
            "bin_end": 81.6,
            "count": 0
           },
           {
            "bin_start": 81.6,
            "bin_end": 83.9,
            "count": 0
           },
           {
            "bin_start": 83.9,
            "bin_end": 86.2,
            "count": 1
           },
           {
            "bin_start": 86.2,
            "bin_end": 88.5,
            "count": 1
           },
           {
            "bin_start": 88.5,
            "bin_end": 90.8,
            "count": 0
           },
           {
            "bin_start": 90.8,
            "bin_end": 93.1,
            "count": 0
           },
           {
            "bin_start": 93.1,
            "bin_end": 95.4,
            "count": 0
           },
           {
            "bin_start": 95.4,
            "bin_end": 97.7,
            "count": 0
           },
           {
            "bin_start": 97.7,
            "bin_end": 100,
            "count": 2
           }
          ]
         }
        },
        {
         "name": "HEIGHT",
         "dtype": "int64",
         "stats": {
          "unique_count": 4,
          "nan_count": 0,
          "min": "180",
          "max": "191",
          "histogram": [
           {
            "bin_start": 180,
            "bin_end": 181.1,
            "count": 1
           },
           {
            "bin_start": 181.1,
            "bin_end": 182.2,
            "count": 0
           },
           {
            "bin_start": 182.2,
            "bin_end": 183.3,
            "count": 1
           },
           {
            "bin_start": 183.3,
            "bin_end": 184.4,
            "count": 0
           },
           {
            "bin_start": 184.4,
            "bin_end": 185.5,
            "count": 2
           },
           {
            "bin_start": 185.5,
            "bin_end": 186.6,
            "count": 0
           },
           {
            "bin_start": 186.6,
            "bin_end": 187.7,
            "count": 0
           },
           {
            "bin_start": 187.7,
            "bin_end": 188.8,
            "count": 0
           },
           {
            "bin_start": 188.8,
            "bin_end": 189.9,
            "count": 0
           },
           {
            "bin_start": 189.9,
            "bin_end": 191,
            "count": 1
           }
          ]
         }
        },
        {
         "name": "POS",
         "dtype": "object",
         "stats": {
          "unique_count": 3,
          "nan_count": 0,
          "categories": [
           {
            "name": "C",
            "count": 3
           },
           {
            "name": "LW",
            "count": 1
           },
           {
            "name": "RD",
            "count": 1
           }
          ]
         }
        },
        {
         "name": "HANDED",
         "dtype": "object",
         "stats": {
          "unique_count": 2,
          "nan_count": 0,
          "categories": [
           {
            "name": "Left",
            "count": 3
           },
           {
            "name": "Right",
            "count": 2
           }
          ]
         }
        },
        {
         "name": "DRAFTED",
         "dtype": "object",
         "stats": {
          "unique_count": 4,
          "nan_count": 1,
          "categories": [
           {
            "name": "1 - Round 1 - 2015 (EDM)",
            "count": 1
           },
           {
            "name": "3 others",
            "count": 3
           },
           {
            "name": "Missing",
            "count": 1
           }
          ]
         }
        },
        {
         "name": "SLIDE CAND.",
         "dtype": "object",
         "stats": {
          "unique_count": 0,
          "nan_count": 5,
          "categories": [
           {
            "name": "Missing",
            "count": 5
           }
          ]
         }
        },
        {
         "name": "GP",
         "dtype": "int64",
         "stats": {
          "unique_count": 5,
          "nan_count": 0,
          "min": "50",
          "max": "80",
          "histogram": [
           {
            "bin_start": 50,
            "bin_end": 53,
            "count": 1
           },
           {
            "bin_start": 53,
            "bin_end": 56,
            "count": 0
           },
           {
            "bin_start": 56,
            "bin_end": 59,
            "count": 0
           },
           {
            "bin_start": 59,
            "bin_end": 62,
            "count": 0
           },
           {
            "bin_start": 62,
            "bin_end": 65,
            "count": 0
           },
           {
            "bin_start": 65,
            "bin_end": 68,
            "count": 0
           },
           {
            "bin_start": 68,
            "bin_end": 71,
            "count": 0
           },
           {
            "bin_start": 71,
            "bin_end": 74,
            "count": 1
           },
           {
            "bin_start": 74,
            "bin_end": 77,
            "count": 1
           },
           {
            "bin_start": 77,
            "bin_end": 80,
            "count": 2
           }
          ]
         }
        },
        {
         "name": "G",
         "dtype": "float64",
         "stats": {
          "unique_count": 5,
          "nan_count": 0,
          "min": "10.0",
          "max": "60.0",
          "histogram": [
           {
            "bin_start": 10,
            "bin_end": 15,
            "count": 1
           },
           {
            "bin_start": 15,
            "bin_end": 20,
            "count": 0
           },
           {
            "bin_start": 20,
            "bin_end": 25,
            "count": 1
           },
           {
            "bin_start": 25,
            "bin_end": 30,
            "count": 1
           },
           {
            "bin_start": 30,
            "bin_end": 35,
            "count": 0
           },
           {
            "bin_start": 35,
            "bin_end": 40,
            "count": 0
           },
           {
            "bin_start": 40,
            "bin_end": 45,
            "count": 1
           },
           {
            "bin_start": 45,
            "bin_end": 50,
            "count": 0
           },
           {
            "bin_start": 50,
            "bin_end": 55,
            "count": 0
           },
           {
            "bin_start": 55,
            "bin_end": 60,
            "count": 1
           }
          ]
         }
        },
        {
         "name": "A",
         "dtype": "float64",
         "stats": {
          "unique_count": 5,
          "nan_count": 0,
          "min": "25.0",
          "max": "79.0",
          "histogram": [
           {
            "bin_start": 25,
            "bin_end": 30.4,
            "count": 1
           },
           {
            "bin_start": 30.4,
            "bin_end": 35.8,
            "count": 0
           },
           {
            "bin_start": 35.8,
            "bin_end": 41.2,
            "count": 0
           },
           {
            "bin_start": 41.2,
            "bin_end": 46.6,
            "count": 1
           },
           {
            "bin_start": 46.6,
            "bin_end": 52,
            "count": 1
           },
           {
            "bin_start": 52,
            "bin_end": 57.400000000000006,
            "count": 0
           },
           {
            "bin_start": 57.400000000000006,
            "bin_end": 62.800000000000004,
            "count": 0
           },
           {
            "bin_start": 62.800000000000004,
            "bin_end": 68.2,
            "count": 0
           },
           {
            "bin_start": 68.2,
            "bin_end": 73.6,
            "count": 0
           },
           {
            "bin_start": 73.6,
            "bin_end": 79,
            "count": 2
           }
          ]
         }
        },
        {
         "name": "P",
         "dtype": "float64",
         "stats": {
          "unique_count": 5,
          "nan_count": 0,
          "min": "35.0",
          "max": "123.0",
          "histogram": [
           {
            "bin_start": 35,
            "bin_end": 43.8,
            "count": 1
           },
           {
            "bin_start": 43.8,
            "bin_end": 52.6,
            "count": 0
           },
           {
            "bin_start": 52.6,
            "bin_end": 61.400000000000006,
            "count": 0
           },
           {
            "bin_start": 61.400000000000006,
            "bin_end": 70.2,
            "count": 0
           },
           {
            "bin_start": 70.2,
            "bin_end": 79,
            "count": 1
           },
           {
            "bin_start": 79,
            "bin_end": 87.80000000000001,
            "count": 0
           },
           {
            "bin_start": 87.80000000000001,
            "bin_end": 96.60000000000001,
            "count": 1
           },
           {
            "bin_start": 96.60000000000001,
            "bin_end": 105.4,
            "count": 0
           },
           {
            "bin_start": 105.4,
            "bin_end": 114.2,
            "count": 1
           },
           {
            "bin_start": 114.2,
            "bin_end": 123,
            "count": 1
           }
          ]
         }
        },
        {
         "name": "P/GP",
         "dtype": "float64",
         "stats": {
          "unique_count": 5,
          "nan_count": 0,
          "min": "0.7",
          "max": "1.54",
          "histogram": [
           {
            "bin_start": 0.7,
            "bin_end": 0.7839999999999999,
            "count": 1
           },
           {
            "bin_start": 0.7839999999999999,
            "bin_end": 0.868,
            "count": 0
           },
           {
            "bin_start": 0.868,
            "bin_end": 0.952,
            "count": 0
           },
           {
            "bin_start": 0.952,
            "bin_end": 1.036,
            "count": 1
           },
           {
            "bin_start": 1.036,
            "bin_end": 1.12,
            "count": 0
           },
           {
            "bin_start": 1.12,
            "bin_end": 1.204,
            "count": 0
           },
           {
            "bin_start": 1.204,
            "bin_end": 1.288,
            "count": 1
           },
           {
            "bin_start": 1.288,
            "bin_end": 1.3719999999999999,
            "count": 0
           },
           {
            "bin_start": 1.3719999999999999,
            "bin_end": 1.456,
            "count": 1
           },
           {
            "bin_start": 1.456,
            "bin_end": 1.54,
            "count": 1
           }
          ]
         }
        },
        {
         "name": "+/-",
         "dtype": "float64",
         "stats": {
          "unique_count": 5,
          "nan_count": 0,
          "min": "-14.0",
          "max": "28.0",
          "histogram": [
           {
            "bin_start": -14,
            "bin_end": -9.8,
            "count": 1
           },
           {
            "bin_start": -9.8,
            "bin_end": -5.6,
            "count": 1
           },
           {
            "bin_start": -5.6,
            "bin_end": -1.3999999999999986,
            "count": 0
           },
           {
            "bin_start": -1.3999999999999986,
            "bin_end": 2.8000000000000007,
            "count": 0
           },
           {
            "bin_start": 2.8000000000000007,
            "bin_end": 7,
            "count": 0
           },
           {
            "bin_start": 7,
            "bin_end": 11.200000000000003,
            "count": 0
           },
           {
            "bin_start": 11.200000000000003,
            "bin_end": 15.400000000000002,
            "count": 0
           },
           {
            "bin_start": 15.400000000000002,
            "bin_end": 19.6,
            "count": 0
           },
           {
            "bin_start": 19.6,
            "bin_end": 23.800000000000004,
            "count": 2
           },
           {
            "bin_start": 23.800000000000004,
            "bin_end": 28,
            "count": 1
           }
          ]
         }
        },
        {
         "name": "Sh",
         "dtype": "float64",
         "stats": {
          "unique_count": 5,
          "nan_count": 0,
          "min": "117.0",
          "max": "348.0",
          "histogram": [
           {
            "bin_start": 117,
            "bin_end": 140.1,
            "count": 1
           },
           {
            "bin_start": 140.1,
            "bin_end": 163.2,
            "count": 0
           },
           {
            "bin_start": 163.2,
            "bin_end": 186.3,
            "count": 1
           },
           {
            "bin_start": 186.3,
            "bin_end": 209.4,
            "count": 0
           },
           {
            "bin_start": 209.4,
            "bin_end": 232.5,
            "count": 0
           },
           {
            "bin_start": 232.5,
            "bin_end": 255.60000000000002,
            "count": 1
           },
           {
            "bin_start": 255.60000000000002,
            "bin_end": 278.70000000000005,
            "count": 0
           },
           {
            "bin_start": 278.70000000000005,
            "bin_end": 301.8,
            "count": 0
           },
           {
            "bin_start": 301.8,
            "bin_end": 324.9,
            "count": 1
           },
           {
            "bin_start": 324.9,
            "bin_end": 348,
            "count": 1
           }
          ]
         }
        },
        {
         "name": "Sh%",
         "dtype": "float64",
         "stats": {
          "unique_count": 5,
          "nan_count": 0,
          "min": "0.09",
          "max": "0.17",
          "histogram": [
           {
            "bin_start": 0.09,
            "bin_end": 0.098,
            "count": 1
           },
           {
            "bin_start": 0.098,
            "bin_end": 0.106,
            "count": 0
           },
           {
            "bin_start": 0.106,
            "bin_end": 0.114,
            "count": 1
           },
           {
            "bin_start": 0.114,
            "bin_end": 0.122,
            "count": 1
           },
           {
            "bin_start": 0.122,
            "bin_end": 0.13,
            "count": 0
           },
           {
            "bin_start": 0.13,
            "bin_end": 0.138,
            "count": 0
           },
           {
            "bin_start": 0.138,
            "bin_end": 0.14600000000000002,
            "count": 1
           },
           {
            "bin_start": 0.14600000000000002,
            "bin_end": 0.15400000000000003,
            "count": 0
           },
           {
            "bin_start": 0.15400000000000003,
            "bin_end": 0.16200000000000003,
            "count": 0
           },
           {
            "bin_start": 0.16200000000000003,
            "bin_end": 0.17,
            "count": 1
           }
          ]
         }
        },
        {
         "name": "TOI",
         "dtype": "object",
         "stats": {
          "unique_count": 5,
          "nan_count": 0,
          "categories": [
           {
            "name": "22:03",
            "count": 1
           },
           {
            "name": "19:12",
            "count": 1
           },
           {
            "name": "3 others",
            "count": 3
           }
          ]
         }
        },
        {
         "name": "ixG",
         "dtype": "float64",
         "stats": {
          "unique_count": 5,
          "nan_count": 0,
          "min": "6.79",
          "max": "45.55",
          "histogram": [
           {
            "bin_start": 6.79,
            "bin_end": 10.666,
            "count": 1
           },
           {
            "bin_start": 10.666,
            "bin_end": 14.542,
            "count": 0
           },
           {
            "bin_start": 14.542,
            "bin_end": 18.418,
            "count": 0
           },
           {
            "bin_start": 18.418,
            "bin_end": 22.294,
            "count": 1
           },
           {
            "bin_start": 22.294,
            "bin_end": 26.169999999999998,
            "count": 0
           },
           {
            "bin_start": 26.169999999999998,
            "bin_end": 30.046,
            "count": 0
           },
           {
            "bin_start": 30.046,
            "bin_end": 33.922,
            "count": 0
           },
           {
            "bin_start": 33.922,
            "bin_end": 37.798,
            "count": 1
           },
           {
            "bin_start": 37.798,
            "bin_end": 41.674,
            "count": 1
           },
           {
            "bin_start": 41.674,
            "bin_end": 45.55,
            "count": 1
           }
          ]
         }
        },
        {
         "name": "iSh",
         "dtype": "float64",
         "stats": {
          "unique_count": 5,
          "nan_count": 0,
          "min": "117.0",
          "max": "348.0",
          "histogram": [
           {
            "bin_start": 117,
            "bin_end": 140.1,
            "count": 1
           },
           {
            "bin_start": 140.1,
            "bin_end": 163.2,
            "count": 0
           },
           {
            "bin_start": 163.2,
            "bin_end": 186.3,
            "count": 1
           },
           {
            "bin_start": 186.3,
            "bin_end": 209.4,
            "count": 0
           },
           {
            "bin_start": 209.4,
            "bin_end": 232.5,
            "count": 0
           },
           {
            "bin_start": 232.5,
            "bin_end": 255.60000000000002,
            "count": 1
           },
           {
            "bin_start": 255.60000000000002,
            "bin_end": 278.70000000000005,
            "count": 0
           },
           {
            "bin_start": 278.70000000000005,
            "bin_end": 301.8,
            "count": 0
           },
           {
            "bin_start": 301.8,
            "bin_end": 324.9,
            "count": 1
           },
           {
            "bin_start": 324.9,
            "bin_end": 348,
            "count": 1
           }
          ]
         }
        },
        {
         "name": "iCF",
         "dtype": "float64",
         "stats": {
          "unique_count": 5,
          "nan_count": 0,
          "min": "248.0",
          "max": "599.0",
          "histogram": [
           {
            "bin_start": 248,
            "bin_end": 283.1,
            "count": 1
           },
           {
            "bin_start": 283.1,
            "bin_end": 318.2,
            "count": 0
           },
           {
            "bin_start": 318.2,
            "bin_end": 353.3,
            "count": 0
           },
           {
            "bin_start": 353.3,
            "bin_end": 388.4,
            "count": 1
           },
           {
            "bin_start": 388.4,
            "bin_end": 423.5,
            "count": 0
           },
           {
            "bin_start": 423.5,
            "bin_end": 458.6,
            "count": 1
           },
           {
            "bin_start": 458.6,
            "bin_end": 493.70000000000005,
            "count": 1
           },
           {
            "bin_start": 493.70000000000005,
            "bin_end": 528.8,
            "count": 0
           },
           {
            "bin_start": 528.8,
            "bin_end": 563.9000000000001,
            "count": 0
           },
           {
            "bin_start": 563.9000000000001,
            "bin_end": 599,
            "count": 1
           }
          ]
         }
        },
        {
         "name": "iFF",
         "dtype": "float64",
         "stats": {
          "unique_count": 5,
          "nan_count": 0,
          "min": "170.0",
          "max": "484.0",
          "histogram": [
           {
            "bin_start": 170,
            "bin_end": 201.4,
            "count": 1
           },
           {
            "bin_start": 201.4,
            "bin_end": 232.8,
            "count": 0
           },
           {
            "bin_start": 232.8,
            "bin_end": 264.2,
            "count": 0
           },
           {
            "bin_start": 264.2,
            "bin_end": 295.6,
            "count": 1
           },
           {
            "bin_start": 295.6,
            "bin_end": 327,
            "count": 0
           },
           {
            "bin_start": 327,
            "bin_end": 358.4,
            "count": 1
           },
           {
            "bin_start": 358.4,
            "bin_end": 389.79999999999995,
            "count": 0
           },
           {
            "bin_start": 389.79999999999995,
            "bin_end": 421.2,
            "count": 1
           },
           {
            "bin_start": 421.2,
            "bin_end": 452.59999999999997,
            "count": 0
           },
           {
            "bin_start": 452.59999999999997,
            "bin_end": 484,
            "count": 1
           }
          ]
         }
        },
        {
         "name": "ixG60",
         "dtype": "float64",
         "stats": {
          "unique_count": 5,
          "nan_count": 0,
          "min": "0.35",
          "max": "1.62",
          "histogram": [
           {
            "bin_start": 0.35,
            "bin_end": 0.477,
            "count": 1
           },
           {
            "bin_start": 0.477,
            "bin_end": 0.604,
            "count": 0
           },
           {
            "bin_start": 0.604,
            "bin_end": 0.731,
            "count": 0
           },
           {
            "bin_start": 0.731,
            "bin_end": 0.858,
            "count": 1
           },
           {
            "bin_start": 0.858,
            "bin_end": 0.985,
            "count": 0
           },
           {
            "bin_start": 0.985,
            "bin_end": 1.112,
            "count": 0
           },
           {
            "bin_start": 1.112,
            "bin_end": 1.2389999999999999,
            "count": 0
           },
           {
            "bin_start": 1.2389999999999999,
            "bin_end": 1.366,
            "count": 0
           },
           {
            "bin_start": 1.366,
            "bin_end": 1.4929999999999999,
            "count": 1
           },
           {
            "bin_start": 1.4929999999999999,
            "bin_end": 1.62,
            "count": 2
           }
          ]
         }
        },
        {
         "name": "iSh60",
         "dtype": "float64",
         "stats": {
          "unique_count": 5,
          "nan_count": 0,
          "min": "5.98",
          "max": "13.88",
          "histogram": [
           {
            "bin_start": 5.98,
            "bin_end": 6.7700000000000005,
            "count": 1
           },
           {
            "bin_start": 6.7700000000000005,
            "bin_end": 7.5600000000000005,
            "count": 1
           },
           {
            "bin_start": 7.5600000000000005,
            "bin_end": 8.350000000000001,
            "count": 0
           },
           {
            "bin_start": 8.350000000000001,
            "bin_end": 9.14,
            "count": 0
           },
           {
            "bin_start": 9.14,
            "bin_end": 9.93,
            "count": 0
           },
           {
            "bin_start": 9.93,
            "bin_end": 10.72,
            "count": 2
           },
           {
            "bin_start": 10.72,
            "bin_end": 11.510000000000002,
            "count": 0
           },
           {
            "bin_start": 11.510000000000002,
            "bin_end": 12.3,
            "count": 0
           },
           {
            "bin_start": 12.3,
            "bin_end": 13.09,
            "count": 0
           },
           {
            "bin_start": 13.09,
            "bin_end": 13.88,
            "count": 1
           }
          ]
         }
        },
        {
         "name": "iCF60",
         "dtype": "float64",
         "stats": {
          "unique_count": 5,
          "nan_count": 0,
          "min": "12.68",
          "max": "23.89",
          "histogram": [
           {
            "bin_start": 12.68,
            "bin_end": 13.801,
            "count": 1
           },
           {
            "bin_start": 13.801,
            "bin_end": 14.922,
            "count": 0
           },
           {
            "bin_start": 14.922,
            "bin_end": 16.043,
            "count": 1
           },
           {
            "bin_start": 16.043,
            "bin_end": 17.164,
            "count": 1
           },
           {
            "bin_start": 17.164,
            "bin_end": 18.285,
            "count": 1
           },
           {
            "bin_start": 18.285,
            "bin_end": 19.406,
            "count": 0
           },
           {
            "bin_start": 19.406,
            "bin_end": 20.527,
            "count": 0
           },
           {
            "bin_start": 20.527,
            "bin_end": 21.648,
            "count": 0
           },
           {
            "bin_start": 21.648,
            "bin_end": 22.769,
            "count": 0
           },
           {
            "bin_start": 22.769,
            "bin_end": 23.89,
            "count": 1
           }
          ]
         }
        },
        {
         "name": "iFF60",
         "dtype": "float64",
         "stats": {
          "unique_count": 5,
          "nan_count": 0,
          "min": "8.69",
          "max": "19.3",
          "histogram": [
           {
            "bin_start": 8.69,
            "bin_end": 9.751,
            "count": 1
           },
           {
            "bin_start": 9.751,
            "bin_end": 10.812,
            "count": 0
           },
           {
            "bin_start": 10.812,
            "bin_end": 11.873000000000001,
            "count": 1
           },
           {
            "bin_start": 11.873000000000001,
            "bin_end": 12.934000000000001,
            "count": 0
           },
           {
            "bin_start": 12.934000000000001,
            "bin_end": 13.995000000000001,
            "count": 1
           },
           {
            "bin_start": 13.995000000000001,
            "bin_end": 15.056000000000001,
            "count": 1
           },
           {
            "bin_start": 15.056000000000001,
            "bin_end": 16.117,
            "count": 0
           },
           {
            "bin_start": 16.117,
            "bin_end": 17.178,
            "count": 0
           },
           {
            "bin_start": 17.178,
            "bin_end": 18.239,
            "count": 0
           },
           {
            "bin_start": 18.239,
            "bin_end": 19.3,
            "count": 1
           }
          ]
         }
        },
        {
         "name": "SF",
         "dtype": "float64",
         "stats": {
          "unique_count": 5,
          "nan_count": 0,
          "min": "697.0",
          "max": "1310.0",
          "histogram": [
           {
            "bin_start": 697,
            "bin_end": 758.3,
            "count": 1
           },
           {
            "bin_start": 758.3,
            "bin_end": 819.6,
            "count": 0
           },
           {
            "bin_start": 819.6,
            "bin_end": 880.9,
            "count": 1
           },
           {
            "bin_start": 880.9,
            "bin_end": 942.2,
            "count": 0
           },
           {
            "bin_start": 942.2,
            "bin_end": 1003.5,
            "count": 1
           },
           {
            "bin_start": 1003.5,
            "bin_end": 1064.8,
            "count": 0
           },
           {
            "bin_start": 1064.8,
            "bin_end": 1126.1,
            "count": 1
           },
           {
            "bin_start": 1126.1,
            "bin_end": 1187.4,
            "count": 0
           },
           {
            "bin_start": 1187.4,
            "bin_end": 1248.6999999999998,
            "count": 0
           },
           {
            "bin_start": 1248.6999999999998,
            "bin_end": 1310,
            "count": 1
           }
          ]
         }
        },
        {
         "name": "SA",
         "dtype": "float64",
         "stats": {
          "unique_count": 5,
          "nan_count": 0,
          "min": "611.0",
          "max": "790.0",
          "histogram": [
           {
            "bin_start": 611,
            "bin_end": 628.9,
            "count": 1
           },
           {
            "bin_start": 628.9,
            "bin_end": 646.8,
            "count": 1
           },
           {
            "bin_start": 646.8,
            "bin_end": 664.7,
            "count": 0
           },
           {
            "bin_start": 664.7,
            "bin_end": 682.6,
            "count": 1
           },
           {
            "bin_start": 682.6,
            "bin_end": 700.5,
            "count": 0
           },
           {
            "bin_start": 700.5,
            "bin_end": 718.4,
            "count": 1
           },
           {
            "bin_start": 718.4,
            "bin_end": 736.3,
            "count": 0
           },
           {
            "bin_start": 736.3,
            "bin_end": 754.2,
            "count": 0
           },
           {
            "bin_start": 754.2,
            "bin_end": 772.1,
            "count": 0
           },
           {
            "bin_start": 772.1,
            "bin_end": 790,
            "count": 1
           }
          ]
         }
        },
        {
         "name": "SF%",
         "dtype": "float64",
         "stats": {
          "unique_count": 5,
          "nan_count": 0,
          "min": "53.29",
          "max": "62.93",
          "histogram": [
           {
            "bin_start": 53.29,
            "bin_end": 54.254,
            "count": 1
           },
           {
            "bin_start": 54.254,
            "bin_end": 55.217999999999996,
            "count": 0
           },
           {
            "bin_start": 55.217999999999996,
            "bin_end": 56.182,
            "count": 0
           },
           {
            "bin_start": 56.182,
            "bin_end": 57.146,
            "count": 1
           },
           {
            "bin_start": 57.146,
            "bin_end": 58.11,
            "count": 1
           },
           {
            "bin_start": 58.11,
            "bin_end": 59.074,
            "count": 0
           },
           {
            "bin_start": 59.074,
            "bin_end": 60.038,
            "count": 0
           },
           {
            "bin_start": 60.038,
            "bin_end": 61.002,
            "count": 0
           },
           {
            "bin_start": 61.002,
            "bin_end": 61.966,
            "count": 0
           },
           {
            "bin_start": 61.966,
            "bin_end": 62.93,
            "count": 2
           }
          ]
         }
        },
        {
         "name": "CF",
         "dtype": "float64",
         "stats": {
          "unique_count": 5,
          "nan_count": 0,
          "min": "1247.0",
          "max": "2259.0",
          "histogram": [
           {
            "bin_start": 1247,
            "bin_end": 1348.2,
            "count": 1
           },
           {
            "bin_start": 1348.2,
            "bin_end": 1449.4,
            "count": 0
           },
           {
            "bin_start": 1449.4,
            "bin_end": 1550.6,
            "count": 0
           },
           {
            "bin_start": 1550.6,
            "bin_end": 1651.8,
            "count": 1
           },
           {
            "bin_start": 1651.8,
            "bin_end": 1753,
            "count": 0
           },
           {
            "bin_start": 1753,
            "bin_end": 1854.2,
            "count": 1
           },
           {
            "bin_start": 1854.2,
            "bin_end": 1955.4,
            "count": 1
           },
           {
            "bin_start": 1955.4,
            "bin_end": 2056.6,
            "count": 0
           },
           {
            "bin_start": 2056.6,
            "bin_end": 2157.8,
            "count": 0
           },
           {
            "bin_start": 2157.8,
            "bin_end": 2259,
            "count": 1
           }
          ]
         }
        },
        {
         "name": "CA",
         "dtype": "float64",
         "stats": {
          "unique_count": 5,
          "nan_count": 0,
          "min": "1103.0",
          "max": "1361.0",
          "histogram": [
           {
            "bin_start": 1103,
            "bin_end": 1128.8,
            "count": 2
           },
           {
            "bin_start": 1128.8,
            "bin_end": 1154.6,
            "count": 0
           },
           {
            "bin_start": 1154.6,
            "bin_end": 1180.4,
            "count": 0
           },
           {
            "bin_start": 1180.4,
            "bin_end": 1206.2,
            "count": 0
           },
           {
            "bin_start": 1206.2,
            "bin_end": 1232,
            "count": 2
           },
           {
            "bin_start": 1232,
            "bin_end": 1257.8,
            "count": 0
           },
           {
            "bin_start": 1257.8,
            "bin_end": 1283.6,
            "count": 0
           },
           {
            "bin_start": 1283.6,
            "bin_end": 1309.4,
            "count": 0
           },
           {
            "bin_start": 1309.4,
            "bin_end": 1335.2,
            "count": 0
           },
           {
            "bin_start": 1335.2,
            "bin_end": 1361,
            "count": 1
           }
          ]
         }
        },
        {
         "name": "CF%",
         "dtype": "float64",
         "stats": {
          "unique_count": 5,
          "nan_count": 0,
          "min": "52.73",
          "max": "63.93",
          "histogram": [
           {
            "bin_start": 52.73,
            "bin_end": 53.849999999999994,
            "count": 1
           },
           {
            "bin_start": 53.849999999999994,
            "bin_end": 54.97,
            "count": 0
           },
           {
            "bin_start": 54.97,
            "bin_end": 56.089999999999996,
            "count": 0
           },
           {
            "bin_start": 56.089999999999996,
            "bin_end": 57.21,
            "count": 1
           },
           {
            "bin_start": 57.21,
            "bin_end": 58.33,
            "count": 0
           },
           {
            "bin_start": 58.33,
            "bin_end": 59.45,
            "count": 0
           },
           {
            "bin_start": 59.45,
            "bin_end": 60.57,
            "count": 1
           },
           {
            "bin_start": 60.57,
            "bin_end": 61.69,
            "count": 0
           },
           {
            "bin_start": 61.69,
            "bin_end": 62.81,
            "count": 1
           },
           {
            "bin_start": 62.81,
            "bin_end": 63.93,
            "count": 1
           }
          ]
         }
        },
        {
         "name": "FF",
         "dtype": "float64",
         "stats": {
          "unique_count": 5,
          "nan_count": 0,
          "min": "955.0",
          "max": "1746.0",
          "histogram": [
           {
            "bin_start": 955,
            "bin_end": 1034.1,
            "count": 1
           },
           {
            "bin_start": 1034.1,
            "bin_end": 1113.2,
            "count": 0
           },
           {
            "bin_start": 1113.2,
            "bin_end": 1192.3,
            "count": 0
           },
           {
            "bin_start": 1192.3,
            "bin_end": 1271.4,
            "count": 1
           },
           {
            "bin_start": 1271.4,
            "bin_end": 1350.5,
            "count": 0
           },
           {
            "bin_start": 1350.5,
            "bin_end": 1429.6,
            "count": 1
           },
           {
            "bin_start": 1429.6,
            "bin_end": 1508.6999999999998,
            "count": 0
           },
           {
            "bin_start": 1508.6999999999998,
            "bin_end": 1587.8,
            "count": 1
           },
           {
            "bin_start": 1587.8,
            "bin_end": 1666.9,
            "count": 0
           },
           {
            "bin_start": 1666.9,
            "bin_end": 1746,
            "count": 1
           }
          ]
         }
        },
        {
         "name": "FA",
         "dtype": "float64",
         "stats": {
          "unique_count": 5,
          "nan_count": 0,
          "min": "838.0",
          "max": "1067.0",
          "histogram": [
           {
            "bin_start": 838,
            "bin_end": 860.9,
            "count": 1
           },
           {
            "bin_start": 860.9,
            "bin_end": 883.8,
            "count": 1
           },
           {
            "bin_start": 883.8,
            "bin_end": 906.7,
            "count": 0
           },
           {
            "bin_start": 906.7,
            "bin_end": 929.6,
            "count": 0
           },
           {
            "bin_start": 929.6,
            "bin_end": 952.5,
            "count": 2
           },
           {
            "bin_start": 952.5,
            "bin_end": 975.4,
            "count": 0
           },
           {
            "bin_start": 975.4,
            "bin_end": 998.3,
            "count": 0
           },
           {
            "bin_start": 998.3,
            "bin_end": 1021.2,
            "count": 0
           },
           {
            "bin_start": 1021.2,
            "bin_end": 1044.1,
            "count": 0
           },
           {
            "bin_start": 1044.1,
            "bin_end": 1067,
            "count": 1
           }
          ]
         }
        },
        {
         "name": "FF%",
         "dtype": "float64",
         "stats": {
          "unique_count": 5,
          "nan_count": 0,
          "min": "53.26",
          "max": "63.84",
          "histogram": [
           {
            "bin_start": 53.26,
            "bin_end": 54.318,
            "count": 1
           },
           {
            "bin_start": 54.318,
            "bin_end": 55.376,
            "count": 0
           },
           {
            "bin_start": 55.376,
            "bin_end": 56.434,
            "count": 0
           },
           {
            "bin_start": 56.434,
            "bin_end": 57.492,
            "count": 1
           },
           {
            "bin_start": 57.492,
            "bin_end": 58.55,
            "count": 0
           },
           {
            "bin_start": 58.55,
            "bin_end": 59.608000000000004,
            "count": 0
           },
           {
            "bin_start": 59.608000000000004,
            "bin_end": 60.666000000000004,
            "count": 1
           },
           {
            "bin_start": 60.666000000000004,
            "bin_end": 61.724000000000004,
            "count": 0
           },
           {
            "bin_start": 61.724000000000004,
            "bin_end": 62.782000000000004,
            "count": 1
           },
           {
            "bin_start": 62.782000000000004,
            "bin_end": 63.84,
            "count": 1
           }
          ]
         }
        },
        {
         "name": "xGF",
         "dtype": "float64",
         "stats": {
          "unique_count": 5,
          "nan_count": 0,
          "min": "67.5",
          "max": "157.93",
          "histogram": [
           {
            "bin_start": 67.5,
            "bin_end": 76.543,
            "count": 1
           },
           {
            "bin_start": 76.543,
            "bin_end": 85.586,
            "count": 0
           },
           {
            "bin_start": 85.586,
            "bin_end": 94.629,
            "count": 0
           },
           {
            "bin_start": 94.629,
            "bin_end": 103.672,
            "count": 1
           },
           {
            "bin_start": 103.672,
            "bin_end": 112.715,
            "count": 1
           },
           {
            "bin_start": 112.715,
            "bin_end": 121.75800000000001,
            "count": 0
           },
           {
            "bin_start": 121.75800000000001,
            "bin_end": 130.80100000000002,
            "count": 1
           },
           {
            "bin_start": 130.80100000000002,
            "bin_end": 139.844,
            "count": 0
           },
           {
            "bin_start": 139.844,
            "bin_end": 148.887,
            "count": 0
           },
           {
            "bin_start": 148.887,
            "bin_end": 157.93,
            "count": 1
           }
          ]
         }
        },
        {
         "name": "xGA",
         "dtype": "float64",
         "stats": {
          "unique_count": 5,
          "nan_count": 0,
          "min": "60.11",
          "max": "76.54",
          "histogram": [
           {
            "bin_start": 60.11,
            "bin_end": 61.753,
            "count": 2
           },
           {
            "bin_start": 61.753,
            "bin_end": 63.396,
            "count": 1
           },
           {
            "bin_start": 63.396,
            "bin_end": 65.039,
            "count": 0
           },
           {
            "bin_start": 65.039,
            "bin_end": 66.682,
            "count": 0
           },
           {
            "bin_start": 66.682,
            "bin_end": 68.325,
            "count": 1
           },
           {
            "bin_start": 68.325,
            "bin_end": 69.968,
            "count": 0
           },
           {
            "bin_start": 69.968,
            "bin_end": 71.611,
            "count": 0
           },
           {
            "bin_start": 71.611,
            "bin_end": 73.254,
            "count": 0
           },
           {
            "bin_start": 73.254,
            "bin_end": 74.897,
            "count": 0
           },
           {
            "bin_start": 74.897,
            "bin_end": 76.54,
            "count": 1
           }
          ]
         }
        },
        {
         "name": "xGF%",
         "dtype": "float64",
         "stats": {
          "unique_count": 5,
          "nan_count": 0,
          "min": "49.83",
          "max": "67.36",
          "histogram": [
           {
            "bin_start": 49.83,
            "bin_end": 51.583,
            "count": 1
           },
           {
            "bin_start": 51.583,
            "bin_end": 53.336,
            "count": 0
           },
           {
            "bin_start": 53.336,
            "bin_end": 55.089,
            "count": 0
           },
           {
            "bin_start": 55.089,
            "bin_end": 56.842,
            "count": 0
           },
           {
            "bin_start": 56.842,
            "bin_end": 58.595,
            "count": 0
           },
           {
            "bin_start": 58.595,
            "bin_end": 60.348,
            "count": 1
           },
           {
            "bin_start": 60.348,
            "bin_end": 62.101,
            "count": 0
           },
           {
            "bin_start": 62.101,
            "bin_end": 63.854,
            "count": 0
           },
           {
            "bin_start": 63.854,
            "bin_end": 65.607,
            "count": 1
           },
           {
            "bin_start": 65.607,
            "bin_end": 67.36,
            "count": 2
           }
          ]
         }
        },
        {
         "name": "W",
         "dtype": "float64",
         "stats": {
          "unique_count": 0,
          "nan_count": 5,
          "min": null,
          "max": null,
          "histogram": [
           {
            "bin_start": 0,
            "bin_end": 0.1,
            "count": 0
           },
           {
            "bin_start": 0.1,
            "bin_end": 0.2,
            "count": 0
           },
           {
            "bin_start": 0.2,
            "bin_end": 0.30000000000000004,
            "count": 0
           },
           {
            "bin_start": 0.30000000000000004,
            "bin_end": 0.4,
            "count": 0
           },
           {
            "bin_start": 0.4,
            "bin_end": 0.5,
            "count": 0
           },
           {
            "bin_start": 0.5,
            "bin_end": 0.6000000000000001,
            "count": 0
           },
           {
            "bin_start": 0.6000000000000001,
            "bin_end": 0.7000000000000001,
            "count": 0
           },
           {
            "bin_start": 0.7000000000000001,
            "bin_end": 0.8,
            "count": 0
           },
           {
            "bin_start": 0.8,
            "bin_end": 0.9,
            "count": 0
           },
           {
            "bin_start": 0.9,
            "bin_end": 1,
            "count": 0
           }
          ]
         }
        },
        {
         "name": "L",
         "dtype": "float64",
         "stats": {
          "unique_count": 0,
          "nan_count": 5,
          "min": null,
          "max": null,
          "histogram": [
           {
            "bin_start": 0,
            "bin_end": 0.1,
            "count": 0
           },
           {
            "bin_start": 0.1,
            "bin_end": 0.2,
            "count": 0
           },
           {
            "bin_start": 0.2,
            "bin_end": 0.30000000000000004,
            "count": 0
           },
           {
            "bin_start": 0.30000000000000004,
            "bin_end": 0.4,
            "count": 0
           },
           {
            "bin_start": 0.4,
            "bin_end": 0.5,
            "count": 0
           },
           {
            "bin_start": 0.5,
            "bin_end": 0.6000000000000001,
            "count": 0
           },
           {
            "bin_start": 0.6000000000000001,
            "bin_end": 0.7000000000000001,
            "count": 0
           },
           {
            "bin_start": 0.7000000000000001,
            "bin_end": 0.8,
            "count": 0
           },
           {
            "bin_start": 0.8,
            "bin_end": 0.9,
            "count": 0
           },
           {
            "bin_start": 0.9,
            "bin_end": 1,
            "count": 0
           }
          ]
         }
        },
        {
         "name": "SO",
         "dtype": "float64",
         "stats": {
          "unique_count": 0,
          "nan_count": 5,
          "min": null,
          "max": null,
          "histogram": [
           {
            "bin_start": 0,
            "bin_end": 0.1,
            "count": 0
           },
           {
            "bin_start": 0.1,
            "bin_end": 0.2,
            "count": 0
           },
           {
            "bin_start": 0.2,
            "bin_end": 0.30000000000000004,
            "count": 0
           },
           {
            "bin_start": 0.30000000000000004,
            "bin_end": 0.4,
            "count": 0
           },
           {
            "bin_start": 0.4,
            "bin_end": 0.5,
            "count": 0
           },
           {
            "bin_start": 0.5,
            "bin_end": 0.6000000000000001,
            "count": 0
           },
           {
            "bin_start": 0.6000000000000001,
            "bin_end": 0.7000000000000001,
            "count": 0
           },
           {
            "bin_start": 0.7000000000000001,
            "bin_end": 0.8,
            "count": 0
           },
           {
            "bin_start": 0.8,
            "bin_end": 0.9,
            "count": 0
           },
           {
            "bin_start": 0.9,
            "bin_end": 1,
            "count": 0
           }
          ]
         }
        },
        {
         "name": "GAA",
         "dtype": "float64",
         "stats": {
          "unique_count": 0,
          "nan_count": 5,
          "min": null,
          "max": null,
          "histogram": [
           {
            "bin_start": 0,
            "bin_end": 0.1,
            "count": 0
           },
           {
            "bin_start": 0.1,
            "bin_end": 0.2,
            "count": 0
           },
           {
            "bin_start": 0.2,
            "bin_end": 0.30000000000000004,
            "count": 0
           },
           {
            "bin_start": 0.30000000000000004,
            "bin_end": 0.4,
            "count": 0
           },
           {
            "bin_start": 0.4,
            "bin_end": 0.5,
            "count": 0
           },
           {
            "bin_start": 0.5,
            "bin_end": 0.6000000000000001,
            "count": 0
           },
           {
            "bin_start": 0.6000000000000001,
            "bin_end": 0.7000000000000001,
            "count": 0
           },
           {
            "bin_start": 0.7000000000000001,
            "bin_end": 0.8,
            "count": 0
           },
           {
            "bin_start": 0.8,
            "bin_end": 0.9,
            "count": 0
           },
           {
            "bin_start": 0.9,
            "bin_end": 1,
            "count": 0
           }
          ]
         }
        },
        {
         "name": "Sv%",
         "dtype": "float64",
         "stats": {
          "unique_count": 0,
          "nan_count": 5,
          "min": null,
          "max": null,
          "histogram": [
           {
            "bin_start": 0,
            "bin_end": 0.1,
            "count": 0
           },
           {
            "bin_start": 0.1,
            "bin_end": 0.2,
            "count": 0
           },
           {
            "bin_start": 0.2,
            "bin_end": 0.30000000000000004,
            "count": 0
           },
           {
            "bin_start": 0.30000000000000004,
            "bin_end": 0.4,
            "count": 0
           },
           {
            "bin_start": 0.4,
            "bin_end": 0.5,
            "count": 0
           },
           {
            "bin_start": 0.5,
            "bin_end": 0.6000000000000001,
            "count": 0
           },
           {
            "bin_start": 0.6000000000000001,
            "bin_end": 0.7000000000000001,
            "count": 0
           },
           {
            "bin_start": 0.7000000000000001,
            "bin_end": 0.8,
            "count": 0
           },
           {
            "bin_start": 0.8,
            "bin_end": 0.9,
            "count": 0
           },
           {
            "bin_start": 0.9,
            "bin_end": 1,
            "count": 0
           }
          ]
         }
        },
        {
         "name": "GA60",
         "dtype": "float64",
         "stats": {
          "unique_count": 0,
          "nan_count": 5,
          "min": null,
          "max": null,
          "histogram": [
           {
            "bin_start": 0,
            "bin_end": 0.1,
            "count": 0
           },
           {
            "bin_start": 0.1,
            "bin_end": 0.2,
            "count": 0
           },
           {
            "bin_start": 0.2,
            "bin_end": 0.30000000000000004,
            "count": 0
           },
           {
            "bin_start": 0.30000000000000004,
            "bin_end": 0.4,
            "count": 0
           },
           {
            "bin_start": 0.4,
            "bin_end": 0.5,
            "count": 0
           },
           {
            "bin_start": 0.5,
            "bin_end": 0.6000000000000001,
            "count": 0
           },
           {
            "bin_start": 0.6000000000000001,
            "bin_end": 0.7000000000000001,
            "count": 0
           },
           {
            "bin_start": 0.7000000000000001,
            "bin_end": 0.8,
            "count": 0
           },
           {
            "bin_start": 0.8,
            "bin_end": 0.9,
            "count": 0
           },
           {
            "bin_start": 0.9,
            "bin_end": 1,
            "count": 0
           }
          ]
         }
        },
        {
         "name": "xGA60",
         "dtype": "float64",
         "stats": {
          "unique_count": 0,
          "nan_count": 5,
          "min": null,
          "max": null,
          "histogram": [
           {
            "bin_start": 0,
            "bin_end": 0.1,
            "count": 0
           },
           {
            "bin_start": 0.1,
            "bin_end": 0.2,
            "count": 0
           },
           {
            "bin_start": 0.2,
            "bin_end": 0.30000000000000004,
            "count": 0
           },
           {
            "bin_start": 0.30000000000000004,
            "bin_end": 0.4,
            "count": 0
           },
           {
            "bin_start": 0.4,
            "bin_end": 0.5,
            "count": 0
           },
           {
            "bin_start": 0.5,
            "bin_end": 0.6000000000000001,
            "count": 0
           },
           {
            "bin_start": 0.6000000000000001,
            "bin_end": 0.7000000000000001,
            "count": 0
           },
           {
            "bin_start": 0.7000000000000001,
            "bin_end": 0.8,
            "count": 0
           },
           {
            "bin_start": 0.8,
            "bin_end": 0.9,
            "count": 0
           },
           {
            "bin_start": 0.9,
            "bin_end": 1,
            "count": 0
           }
          ]
         }
        },
        {
         "name": "GSAx60",
         "dtype": "float64",
         "stats": {
          "unique_count": 0,
          "nan_count": 5,
          "min": null,
          "max": null,
          "histogram": [
           {
            "bin_start": 0,
            "bin_end": 0.1,
            "count": 0
           },
           {
            "bin_start": 0.1,
            "bin_end": 0.2,
            "count": 0
           },
           {
            "bin_start": 0.2,
            "bin_end": 0.30000000000000004,
            "count": 0
           },
           {
            "bin_start": 0.30000000000000004,
            "bin_end": 0.4,
            "count": 0
           },
           {
            "bin_start": 0.4,
            "bin_end": 0.5,
            "count": 0
           },
           {
            "bin_start": 0.5,
            "bin_end": 0.6000000000000001,
            "count": 0
           },
           {
            "bin_start": 0.6000000000000001,
            "bin_end": 0.7000000000000001,
            "count": 0
           },
           {
            "bin_start": 0.7000000000000001,
            "bin_end": 0.8,
            "count": 0
           },
           {
            "bin_start": 0.8,
            "bin_end": 0.9,
            "count": 0
           },
           {
            "bin_start": 0.9,
            "bin_end": 1,
            "count": 0
           }
          ]
         }
        },
        {
         "name": "TYPE",
         "dtype": "object",
         "stats": {
          "unique_count": 1,
          "nan_count": 0,
          "categories": [
           {
            "name": "Standard (1-way)",
            "count": 5
           }
          ]
         }
        },
        {
         "name": "EXTENSION",
         "dtype": "object",
         "stats": {
          "unique_count": 1,
          "nan_count": 2,
          "categories": [
           {
            "name": "✔",
            "count": 3
           },
           {
            "name": "Missing",
            "count": 2
           }
          ]
         }
        },
        {
         "name": "SIGNING DATE",
         "dtype": "object",
         "stats": {
          "unique_count": 5,
          "nan_count": 0,
          "categories": [
           {
            "name": "Jul. 5, 2017",
            "count": 1
           },
           {
            "name": "Jul. 1, 2019",
            "count": 1
           },
           {
            "name": "3 others",
            "count": 3
           }
          ]
         }
        },
        {
         "name": "SIGNING AGE",
         "dtype": "int64",
         "stats": {
          "unique_count": 3,
          "nan_count": 0,
          "min": "21",
          "max": "29",
          "histogram": [
           {
            "bin_start": 21,
            "bin_end": 21.8,
            "count": 2
           },
           {
            "bin_start": 21.8,
            "bin_end": 22.6,
            "count": 0
           },
           {
            "bin_start": 22.6,
            "bin_end": 23.4,
            "count": 0
           },
           {
            "bin_start": 23.4,
            "bin_end": 24.2,
            "count": 0
           },
           {
            "bin_start": 24.2,
            "bin_end": 25,
            "count": 0
           },
           {
            "bin_start": 25,
            "bin_end": 25.8,
            "count": 0
           },
           {
            "bin_start": 25.8,
            "bin_end": 26.6,
            "count": 0
           },
           {
            "bin_start": 26.6,
            "bin_end": 27.4,
            "count": 2
           },
           {
            "bin_start": 27.4,
            "bin_end": 28.2,
            "count": 0
           },
           {
            "bin_start": 28.2,
            "bin_end": 29,
            "count": 1
           }
          ]
         }
        },
        {
         "name": "ARB. ELIG",
         "dtype": "object",
         "stats": {
          "unique_count": 0,
          "nan_count": 5,
          "categories": [
           {
            "name": "Missing",
            "count": 5
           }
          ]
         }
        },
        {
         "name": "ARB. REQ",
         "dtype": "object",
         "stats": {
          "unique_count": 0,
          "nan_count": 5,
          "categories": [
           {
            "name": "Missing",
            "count": 5
           }
          ]
         }
        },
        {
         "name": "CLAUSE",
         "dtype": "object",
         "stats": {
          "unique_count": 1,
          "nan_count": 2,
          "categories": [
           {
            "name": "NMC",
            "count": 3
           },
           {
            "name": "Missing",
            "count": 2
           }
          ]
         }
        },
        {
         "name": "LENGTH",
         "dtype": "int64",
         "stats": {
          "unique_count": 3,
          "nan_count": 0,
          "min": "5",
          "max": "8",
          "histogram": [
           {
            "bin_start": 5,
            "bin_end": 5.3,
            "count": 1
           },
           {
            "bin_start": 5.3,
            "bin_end": 5.6,
            "count": 0
           },
           {
            "bin_start": 5.6,
            "bin_end": 5.9,
            "count": 0
           },
           {
            "bin_start": 5.9,
            "bin_end": 6.2,
            "count": 0
           },
           {
            "bin_start": 6.2,
            "bin_end": 6.5,
            "count": 0
           },
           {
            "bin_start": 6.5,
            "bin_end": 6.8,
            "count": 0
           },
           {
            "bin_start": 6.8,
            "bin_end": 7.1,
            "count": 2
           },
           {
            "bin_start": 7.1,
            "bin_end": 7.4,
            "count": 0
           },
           {
            "bin_start": 7.4,
            "bin_end": 7.699999999999999,
            "count": 0
           },
           {
            "bin_start": 7.699999999999999,
            "bin_end": 8,
            "count": 2
           }
          ]
         }
        },
        {
         "name": "SIGNING",
         "dtype": "object",
         "stats": {
          "unique_count": 2,
          "nan_count": 0,
          "categories": [
           {
            "name": "UFA",
            "count": 3
           },
           {
            "name": "RFA",
            "count": 2
           }
          ]
         }
        },
        {
         "name": "EXPIRY",
         "dtype": "object",
         "stats": {
          "unique_count": 1,
          "nan_count": 0,
          "categories": [
           {
            "name": "UFA",
            "count": 5
           }
          ]
         }
        },
        {
         "name": "EXP. YEAR",
         "dtype": "int64",
         "stats": {
          "unique_count": 4,
          "nan_count": 0,
          "min": "2024",
          "max": "2027",
          "histogram": [
           {
            "bin_start": 2024,
            "bin_end": 2024.3,
            "count": 1
           },
           {
            "bin_start": 2024.3,
            "bin_end": 2024.6,
            "count": 0
           },
           {
            "bin_start": 2024.6,
            "bin_end": 2024.9,
            "count": 0
           },
           {
            "bin_start": 2024.9,
            "bin_end": 2025.2,
            "count": 1
           },
           {
            "bin_start": 2025.2,
            "bin_end": 2025.5,
            "count": 0
           },
           {
            "bin_start": 2025.5,
            "bin_end": 2025.8,
            "count": 0
           },
           {
            "bin_start": 2025.8,
            "bin_end": 2026.1,
            "count": 2
           },
           {
            "bin_start": 2026.1,
            "bin_end": 2026.4,
            "count": 0
           },
           {
            "bin_start": 2026.4,
            "bin_end": 2026.7,
            "count": 0
           },
           {
            "bin_start": 2026.7,
            "bin_end": 2027,
            "count": 1
           }
          ]
         }
        },
        {
         "name": "CAP HIT",
         "dtype": "object",
         "stats": {
          "unique_count": 5,
          "nan_count": 0,
          "categories": [
           {
            "name": "$12,500,000",
            "count": 1
           },
           {
            "name": "$11,642,857",
            "count": 1
           },
           {
            "name": "3 others",
            "count": 3
           }
          ]
         }
        },
        {
         "name": "CAP HIT %",
         "dtype": "object",
         "stats": {
          "unique_count": 5,
          "nan_count": 0,
          "categories": [
           {
            "name": "16.7%",
            "count": 1
           },
           {
            "name": "14.3%",
            "count": 1
           },
           {
            "name": "3 others",
            "count": 3
           }
          ]
         }
        },
        {
         "name": "AAV",
         "dtype": "object",
         "stats": {
          "unique_count": 5,
          "nan_count": 0,
          "categories": [
           {
            "name": "$12,500,000",
            "count": 1
           },
           {
            "name": "$11,642,857",
            "count": 1
           },
           {
            "name": "3 others",
            "count": 3
           }
          ]
         }
        },
        {
         "name": "SALARY",
         "dtype": "object",
         "stats": {
          "unique_count": 4,
          "nan_count": 0,
          "categories": [
           {
            "name": "$13,000,000",
            "count": 2
           },
           {
            "name": "$10,470,000",
            "count": 1
           },
           {
            "name": "2 others",
            "count": 2
           }
          ]
         }
        },
        {
         "name": "BASE SALARY",
         "dtype": "object",
         "stats": {
          "unique_count": 4,
          "nan_count": 0,
          "categories": [
           {
            "name": "$1,000,000",
            "count": 2
           },
           {
            "name": "$750,000",
            "count": 1
           },
           {
            "name": "2 others",
            "count": 2
           }
          ]
         }
        },
        {
         "name": "MINORS",
         "dtype": "object",
         "stats": {
          "unique_count": 4,
          "nan_count": 0,
          "categories": [
           {
            "name": "$13,000,000",
            "count": 2
           },
           {
            "name": "$10,470,000",
            "count": 1
           },
           {
            "name": "2 others",
            "count": 2
           }
          ]
         }
        },
        {
         "name": "P.BONUS",
         "dtype": "object",
         "stats": {
          "unique_count": 1,
          "nan_count": 0,
          "categories": [
           {
            "name": "$0",
            "count": 5
           }
          ]
         }
        },
        {
         "name": "_deepnote_index_column",
         "dtype": "object"
        }
       ],
       "rows": [
        {
         "TEAM": "EDM",
         "AGE": "24",
         "DATE OF BIRTH": "Jan. 13, 1997",
         "COUNTRY": "Canada",
         "WEIGHT": "88",
         "HEIGHT": "185",
         "POS": "C",
         "HANDED": "Left",
         "DRAFTED": "1 - Round 1 - 2015 (EDM)",
         "SLIDE CAND.": "nan",
         "GP": "80",
         "G": "44.0",
         "A": "79.0",
         "P": "123.0",
         "P/GP": "1.54",
         "+/-": "28.0",
         "Sh": "314.0",
         "Sh%": "0.14",
         "TOI": "22:03",
         "ixG": "45.55",
         "iSh": "315.0",
         "iCF": "481.0",
         "iFF": "393.0",
         "ixG60": "1.55",
         "iSh60": "10.71",
         "iCF60": "16.35",
         "iFF60": "13.36",
         "SF": "1310.0",
         "SA": "790.0",
         "SF%": "62.38",
         "CF": "2259.0",
         "CA": "1361.0",
         "CF%": "62.4",
         "FF": "1746.0",
         "FA": "1067.0",
         "FF%": "62.07",
         "xGF": "157.93",
         "xGA": "76.54",
         "xGF%": "67.36",
         "W": "nan",
         "L": "nan",
         "SO": "nan",
         "GAA": "nan",
         "Sv%": "nan",
         "GA60": "nan",
         "xGA60": "nan",
         "GSAx60": "nan",
         "TYPE": "Standard (1-way)",
         "EXTENSION": "✔",
         "SIGNING DATE": "Jul. 5, 2017",
         "SIGNING AGE": "21",
         "ARB. ELIG": "nan",
         "ARB. REQ": "nan",
         "CLAUSE": "nan",
         "LENGTH": "8",
         "SIGNING": "RFA",
         "EXPIRY": "UFA",
         "EXP. YEAR": "2026",
         "CAP HIT": "$12,500,000",
         "CAP HIT %": "16.7%",
         "AAV": "$12,500,000",
         "SALARY": "$13,000,000",
         "BASE SALARY": "$1,000,000",
         "MINORS": "$13,000,000",
         "P.BONUS": "$0",
         "_deepnote_index_column": "1. Connor McDavid"
        },
        {
         "TEAM": "NYR",
         "AGE": "29",
         "DATE OF BIRTH": "Oct. 30, 1991",
         "COUNTRY": "Russia",
         "WEIGHT": "77",
         "HEIGHT": "180",
         "POS": "LW",
         "HANDED": "Right",
         "DRAFTED": "nan",
         "SLIDE CAND.": "nan",
         "GP": "75",
         "G": "22.0",
         "A": "74.0",
         "P": "96.0",
         "P/GP": "1.28",
         "+/-": "21.0",
         "Sh": "177.0",
         "Sh%": "0.12",
         "TOI": "19:12",
         "ixG": "18.48",
         "iSh": "177.0",
         "iCF": "370.0",
         "iFF": "265.0",
         "ixG60": "0.77",
         "iSh60": "7.37",
         "iCF60": "15.4",
         "iFF60": "11.03",
         "SF": "872.0",
         "SA": "671.0",
         "SF%": "56.51",
         "CF": "1600.0",
         "CA": "1226.0",
         "CF%": "56.62",
         "FF": "1229.0",
         "FA": "939.0",
         "FF%": "56.69",
         "xGF": "95.23",
         "xGA": "62.67",
         "xGF%": "60.31",
         "W": "nan",
         "L": "nan",
         "SO": "nan",
         "GAA": "nan",
         "Sv%": "nan",
         "GA60": "nan",
         "xGA60": "nan",
         "GSAx60": "nan",
         "TYPE": "Standard (1-way)",
         "EXTENSION": "nan",
         "SIGNING DATE": "Jul. 1, 2019",
         "SIGNING AGE": "27",
         "ARB. ELIG": "nan",
         "ARB. REQ": "nan",
         "CLAUSE": "NMC",
         "LENGTH": "7",
         "SIGNING": "UFA",
         "EXPIRY": "UFA",
         "EXP. YEAR": "2026",
         "CAP HIT": "$11,642,857",
         "CAP HIT %": "14.3%",
         "AAV": "$11,642,857",
         "SALARY": "$13,000,000",
         "BASE SALARY": "$1,000,000",
         "MINORS": "$13,000,000",
         "P.BONUS": "$0",
         "_deepnote_index_column": "2. Artemi Panarin"
        },
        {
         "TEAM": "TOR",
         "AGE": "23",
         "DATE OF BIRTH": "Sep. 17, 1997",
         "COUNTRY": "United States",
         "WEIGHT": "100",
         "HEIGHT": "191",
         "POS": "C",
         "HANDED": "Left",
         "DRAFTED": "1 - Round 1 - 2016 (TOR)",
         "SLIDE CAND.": "nan",
         "GP": "73",
         "G": "60.0",
         "A": "46.0",
         "P": "106.0",
         "P/GP": "1.45",
         "+/-": "20.0",
         "Sh": "348.0",
         "Sh%": "0.17",
         "TOI": "20:36",
         "ixG": "40.69",
         "iSh": "348.0",
         "iCF": "599.0",
         "iFF": "484.0",
         "ixG60": "1.62",
         "iSh60": "13.88",
         "iCF60": "23.89",
         "iFF60": "19.3",
         "SF": "1083.0",
         "SA": "638.0",
         "SF%": "62.93",
         "CF": "1955.0",
         "CA": "1103.0",
         "CF%": "63.93",
         "FF": "1520.0",
         "FA": "861.0",
         "FF%": "63.84",
         "xGF": "123.18",
         "xGA": "60.11",
         "xGF%": "67.2",
         "W": "nan",
         "L": "nan",
         "SO": "nan",
         "GAA": "nan",
         "Sv%": "nan",
         "GA60": "nan",
         "xGA60": "nan",
         "GSAx60": "nan",
         "TYPE": "Standard (1-way)",
         "EXTENSION": "✔",
         "SIGNING DATE": "Feb. 5, 2019",
         "SIGNING AGE": "21",
         "ARB. ELIG": "nan",
         "ARB. REQ": "nan",
         "CLAUSE": "nan",
         "LENGTH": "5",
         "SIGNING": "RFA",
         "EXPIRY": "UFA",
         "EXP. YEAR": "2024",
         "CAP HIT": "$11,640,250",
         "CAP HIT %": "14.6%",
         "AAV": "$11,640,250",
         "SALARY": "$10,470,000",
         "BASE SALARY": "$750,000",
         "MINORS": "$10,470,000",
         "P.BONUS": "$0",
         "_deepnote_index_column": "3. Auston Matthews"
        },
        {
         "TEAM": "SJS",
         "AGE": "31",
         "DATE OF BIRTH": "May 31, 1990",
         "COUNTRY": "Sweden",
         "WEIGHT": "86",
         "HEIGHT": "183",
         "POS": "RD",
         "HANDED": "Right",
         "DRAFTED": "15 - Round 1 - 2008 (OTT)",
         "SLIDE CAND.": "nan",
         "GP": "50",
         "G": "10.0",
         "A": "25.0",
         "P": "35.0",
         "P/GP": "0.7",
         "+/-": "-14.0",
         "Sh": "117.0",
         "Sh%": "0.09",
         "TOI": "23:28",
         "ixG": "6.79",
         "iSh": "117.0",
         "iCF": "248.0",
         "iFF": "170.0",
         "ixG60": "0.35",
         "iSh60": "5.98",
         "iCF60": "12.68",
         "iFF60": "8.69",
         "SF": "697.0",
         "SA": "611.0",
         "SF%": "53.29",
         "CF": "1247.0",
         "CA": "1118.0",
         "CF%": "52.73",
         "FF": "955.0",
         "FA": "838.0",
         "FF%": "53.26",
         "xGF": "67.5",
         "xGA": "67.97",
         "xGF%": "49.83",
         "W": "nan",
         "L": "nan",
         "SO": "nan",
         "GAA": "nan",
         "Sv%": "nan",
         "GA60": "nan",
         "xGA60": "nan",
         "GSAx60": "nan",
         "TYPE": "Standard (1-way)",
         "EXTENSION": "✔",
         "SIGNING DATE": "Jun. 17, 2019",
         "SIGNING AGE": "29",
         "ARB. ELIG": "nan",
         "ARB. REQ": "nan",
         "CLAUSE": "NMC",
         "LENGTH": "8",
         "SIGNING": "UFA",
         "EXPIRY": "UFA",
         "EXP. YEAR": "2027",
         "CAP HIT": "$11,500,000",
         "CAP HIT %": "14.5%",
         "AAV": "$11,500,000",
         "SALARY": "$14,500,000",
         "BASE SALARY": "$5,500,000",
         "MINORS": "$14,500,000",
         "P.BONUS": "$0",
         "_deepnote_index_column": "4. Erik Karlsson"
        },
        {
         "TEAM": "TOR",
         "AGE": "30",
         "DATE OF BIRTH": "Sep. 20, 1990",
         "COUNTRY": "Canada",
         "WEIGHT": "98",
         "HEIGHT": "185",
         "POS": "C",
         "HANDED": "Left",
         "DRAFTED": "1 - Round 1 - 2009 (NYI)",
         "SLIDE CAND.": "nan",
         "GP": "79",
         "G": "27.0",
         "A": "49.0",
         "P": "76.0",
         "P/GP": "0.96",
         "+/-": "-8.0",
         "Sh": "237.0",
         "Sh%": "0.11",
         "TOI": "18:04",
         "ixG": "34.61",
         "iSh": "237.0",
         "iCF": "429.0",
         "iFF": "347.0",
         "ixG60": "1.45",
         "iSh60": "9.96",
         "iCF60": "18.03",
         "iFF60": "14.58",
         "SF": "976.0",
         "SA": "714.0",
         "SF%": "57.75",
         "CF": "1781.0",
         "CA": "1211.0",
         "CF%": "59.53",
         "FF": "1383.0",
         "FA": "936.0",
         "FF%": "59.64",
         "xGF": "110.93",
         "xGA": "61.71",
         "xGF%": "64.26",
         "W": "nan",
         "L": "nan",
         "SO": "nan",
         "GAA": "nan",
         "Sv%": "nan",
         "GA60": "nan",
         "xGA60": "nan",
         "GSAx60": "nan",
         "TYPE": "Standard (1-way)",
         "EXTENSION": "nan",
         "SIGNING DATE": "Jul. 1, 2018",
         "SIGNING AGE": "27",
         "ARB. ELIG": "nan",
         "ARB. REQ": "nan",
         "CLAUSE": "NMC",
         "LENGTH": "7",
         "SIGNING": "UFA",
         "EXPIRY": "UFA",
         "EXP. YEAR": "2025",
         "CAP HIT": "$11,000,000",
         "CAP HIT %": "13.8%",
         "AAV": "$11,000,000",
         "SALARY": "$9,350,000",
         "BASE SALARY": "$910,000",
         "MINORS": "$9,350,000",
         "P.BONUS": "$0",
         "_deepnote_index_column": "5. John Tavares"
        }
       ]
      },
      "text/plain": "                   TEAM  AGE  DATE OF BIRTH        COUNTRY  WEIGHT  HEIGHT  \\\nPLAYER                                                                       \n1. Connor McDavid   EDM   24  Jan. 13, 1997         Canada      88     185   \n2. Artemi Panarin   NYR   29  Oct. 30, 1991         Russia      77     180   \n3. Auston Matthews  TOR   23  Sep. 17, 1997  United States     100     191   \n4. Erik Karlsson    SJS   31   May 31, 1990         Sweden      86     183   \n5. John Tavares     TOR   30  Sep. 20, 1990         Canada      98     185   \n\n                   POS HANDED                    DRAFTED SLIDE CAND.  ...  \\\nPLAYER                                                                ...   \n1. Connor McDavid    C   Left   1 - Round 1 - 2015 (EDM)         NaN  ...   \n2. Artemi Panarin   LW  Right                        NaN         NaN  ...   \n3. Auston Matthews   C   Left   1 - Round 1 - 2016 (TOR)         NaN  ...   \n4. Erik Karlsson    RD  Right  15 - Round 1 - 2008 (OTT)         NaN  ...   \n5. John Tavares      C   Left   1 - Round 1 - 2009 (NYI)         NaN  ...   \n\n                    SIGNING  EXPIRY  EXP. YEAR      CAP HIT  CAP HIT %  \\\nPLAYER                                                                   \n1. Connor McDavid       RFA     UFA       2026  $12,500,000      16.7%   \n2. Artemi Panarin       UFA     UFA       2026  $11,642,857      14.3%   \n3. Auston Matthews      RFA     UFA       2024  $11,640,250      14.6%   \n4. Erik Karlsson        UFA     UFA       2027  $11,500,000      14.5%   \n5. John Tavares         UFA     UFA       2025  $11,000,000      13.8%   \n\n                            AAV       SALARY  BASE SALARY       MINORS  \\\nPLAYER                                                                   \n1. Connor McDavid   $12,500,000  $13,000,000   $1,000,000  $13,000,000   \n2. Artemi Panarin   $11,642,857  $13,000,000   $1,000,000  $13,000,000   \n3. Auston Matthews  $11,640,250  $10,470,000     $750,000  $10,470,000   \n4. Erik Karlsson    $11,500,000  $14,500,000   $5,500,000  $14,500,000   \n5. John Tavares     $11,000,000   $9,350,000     $910,000   $9,350,000   \n\n                    P.BONUS  \nPLAYER                       \n1. Connor McDavid        $0  \n2. Artemi Panarin        $0  \n3. Auston Matthews       $0  \n4. Erik Karlsson         $0  \n5. John Tavares          $0  \n\n[5 rows x 65 columns]",
      "text/html": "<div>\n<style scoped>\n    .dataframe tbody tr th:only-of-type {\n        vertical-align: middle;\n    }\n\n    .dataframe tbody tr th {\n        vertical-align: top;\n    }\n\n    .dataframe thead th {\n        text-align: right;\n    }\n</style>\n<table border=\"1\" class=\"dataframe\">\n  <thead>\n    <tr style=\"text-align: right;\">\n      <th></th>\n      <th>TEAM</th>\n      <th>AGE</th>\n      <th>DATE OF BIRTH</th>\n      <th>COUNTRY</th>\n      <th>WEIGHT</th>\n      <th>HEIGHT</th>\n      <th>POS</th>\n      <th>HANDED</th>\n      <th>DRAFTED</th>\n      <th>SLIDE CAND.</th>\n      <th>...</th>\n      <th>SIGNING</th>\n      <th>EXPIRY</th>\n      <th>EXP. YEAR</th>\n      <th>CAP HIT</th>\n      <th>CAP HIT %</th>\n      <th>AAV</th>\n      <th>SALARY</th>\n      <th>BASE SALARY</th>\n      <th>MINORS</th>\n      <th>P.BONUS</th>\n    </tr>\n    <tr>\n      <th>PLAYER</th>\n      <th></th>\n      <th></th>\n      <th></th>\n      <th></th>\n      <th></th>\n      <th></th>\n      <th></th>\n      <th></th>\n      <th></th>\n      <th></th>\n      <th></th>\n      <th></th>\n      <th></th>\n      <th></th>\n      <th></th>\n      <th></th>\n      <th></th>\n      <th></th>\n      <th></th>\n      <th></th>\n      <th></th>\n    </tr>\n  </thead>\n  <tbody>\n    <tr>\n      <th>1. Connor McDavid</th>\n      <td>EDM</td>\n      <td>24</td>\n      <td>Jan. 13, 1997</td>\n      <td>Canada</td>\n      <td>88</td>\n      <td>185</td>\n      <td>C</td>\n      <td>Left</td>\n      <td>1 - Round 1 - 2015 (EDM)</td>\n      <td>NaN</td>\n      <td>...</td>\n      <td>RFA</td>\n      <td>UFA</td>\n      <td>2026</td>\n      <td>$12,500,000</td>\n      <td>16.7%</td>\n      <td>$12,500,000</td>\n      <td>$13,000,000</td>\n      <td>$1,000,000</td>\n      <td>$13,000,000</td>\n      <td>$0</td>\n    </tr>\n    <tr>\n      <th>2. Artemi Panarin</th>\n      <td>NYR</td>\n      <td>29</td>\n      <td>Oct. 30, 1991</td>\n      <td>Russia</td>\n      <td>77</td>\n      <td>180</td>\n      <td>LW</td>\n      <td>Right</td>\n      <td>NaN</td>\n      <td>NaN</td>\n      <td>...</td>\n      <td>UFA</td>\n      <td>UFA</td>\n      <td>2026</td>\n      <td>$11,642,857</td>\n      <td>14.3%</td>\n      <td>$11,642,857</td>\n      <td>$13,000,000</td>\n      <td>$1,000,000</td>\n      <td>$13,000,000</td>\n      <td>$0</td>\n    </tr>\n    <tr>\n      <th>3. Auston Matthews</th>\n      <td>TOR</td>\n      <td>23</td>\n      <td>Sep. 17, 1997</td>\n      <td>United States</td>\n      <td>100</td>\n      <td>191</td>\n      <td>C</td>\n      <td>Left</td>\n      <td>1 - Round 1 - 2016 (TOR)</td>\n      <td>NaN</td>\n      <td>...</td>\n      <td>RFA</td>\n      <td>UFA</td>\n      <td>2024</td>\n      <td>$11,640,250</td>\n      <td>14.6%</td>\n      <td>$11,640,250</td>\n      <td>$10,470,000</td>\n      <td>$750,000</td>\n      <td>$10,470,000</td>\n      <td>$0</td>\n    </tr>\n    <tr>\n      <th>4. Erik Karlsson</th>\n      <td>SJS</td>\n      <td>31</td>\n      <td>May 31, 1990</td>\n      <td>Sweden</td>\n      <td>86</td>\n      <td>183</td>\n      <td>RD</td>\n      <td>Right</td>\n      <td>15 - Round 1 - 2008 (OTT)</td>\n      <td>NaN</td>\n      <td>...</td>\n      <td>UFA</td>\n      <td>UFA</td>\n      <td>2027</td>\n      <td>$11,500,000</td>\n      <td>14.5%</td>\n      <td>$11,500,000</td>\n      <td>$14,500,000</td>\n      <td>$5,500,000</td>\n      <td>$14,500,000</td>\n      <td>$0</td>\n    </tr>\n    <tr>\n      <th>5. John Tavares</th>\n      <td>TOR</td>\n      <td>30</td>\n      <td>Sep. 20, 1990</td>\n      <td>Canada</td>\n      <td>98</td>\n      <td>185</td>\n      <td>C</td>\n      <td>Left</td>\n      <td>1 - Round 1 - 2009 (NYI)</td>\n      <td>NaN</td>\n      <td>...</td>\n      <td>UFA</td>\n      <td>UFA</td>\n      <td>2025</td>\n      <td>$11,000,000</td>\n      <td>13.8%</td>\n      <td>$11,000,000</td>\n      <td>$9,350,000</td>\n      <td>$910,000</td>\n      <td>$9,350,000</td>\n      <td>$0</td>\n    </tr>\n  </tbody>\n</table>\n<p>5 rows × 65 columns</p>\n</div>"
     },
     "metadata": {}
    }
   ],
   "execution_count": 64
  },
  {
   "cell_type": "code",
   "source": "seasons_df = []\n\nfor year in range (2016, 2023):\n\n    url_start = f\"https://www.capfriendly.com/browse/active/{year}?stats-season={year}&display=birthday,country,weightkg,heightcm,draft,slide-candidate,signing-status,expiry-year,performance-bonus,caphit-percent,aav,length,minors-salary,base-salary,skater-individual-advanced-stats,skater-on-ice-advanced-stats,goalie-advanced-stats,type,signing-age,signing-date,arbitration,extension&limits=gp-5-90\"\n\n    req = requests.get(url_start)\n\n    soup = BeautifulSoup(req.content)\n\n    info_about_lists = soup.find_all(\"a\", {\"class\": \"whi pagin_r\"})\n    last_list_num = int(info_about_lists[-1][\"data-val\"])  # take the last number of page from date-val\n\n    logging.info(f\"Start season {year} scapring\")\n    time.sleep(5)\n\n    dfs_array = []\n\n    for page_num in range(1, last_list_num + 1):\n\n        logging.info(f\"Start season {year} scapring page {page_num}\")\n\n        time.sleep(2)  # let the page download the results\n\n        url = url_start + f\"&pg={page_num}\"\n        df = pd.read_html(url, header=0, index_col = 0, na_values=[\"-\"])[0]\n\n    dfs_array.append(df)\n\n    logging.info(f\"Finish season {year} scapring page {page_num}\")\n\n    one_season_df = pd.concat(dfs_array)\n\n    seasons_df.append(one_season_df)\n\n    logging.info(f\"Finish season {year} scapring\")\n\n\n",
   "metadata": {
    "cell_id": "60a1e9c001df48c7937e55698a93a151",
    "tags": [],
    "deepnote_to_be_reexecuted": false,
    "source_hash": "d00e8b37",
    "execution_start": 1664371375487,
    "execution_millis": 298784,
    "deepnote_cell_type": "code",
    "deepnote_cell_height": 765,
    "deepnote_output_heights": [
     191
    ]
   },
   "outputs": [],
   "execution_count": 70
  },
  {
   "cell_type": "code",
   "source": "total_df = pd.concat(seasons_df)",
   "metadata": {
    "cell_id": "bb55666012f04af4a9266028cbdea752",
    "tags": [],
    "deepnote_to_be_reexecuted": false,
    "source_hash": "359cb4f",
    "execution_start": 1664371674320,
    "execution_millis": 0,
    "deepnote_cell_type": "code",
    "deepnote_cell_height": 76
   },
   "outputs": [],
   "execution_count": 71
  },
  {
   "cell_type": "code",
   "source": "total_df.to_csv(\"my_dataset.csv\", index=False)",
   "metadata": {
    "cell_id": "928aa05bf0ef475c882994b9803ef784",
    "tags": [],
    "deepnote_to_be_reexecuted": false,
    "source_hash": "522022d8",
    "execution_start": 1664371720583,
    "execution_millis": 14,
    "deepnote_cell_type": "code",
    "deepnote_cell_height": 61
   },
   "outputs": [],
   "execution_count": 72
  },
  {
   "cell_type": "code",
   "source": "",
   "metadata": {
    "cell_id": "bf03ee3bd5684d64a3f351c9d57623c2",
    "tags": [],
    "deepnote_cell_type": "code",
    "deepnote_cell_height": 61
   },
   "outputs": [],
   "execution_count": null
  },
  {
   "cell_type": "markdown",
   "source": "<a style='text-decoration:none;line-height:16px;display:flex;color:#5B5B62;padding:10px;justify-content:end;' href='https://deepnote.com?utm_source=created-in-deepnote-cell&projectId=fb97efa2-d417-46e7-813c-0372ce0dd7f6' target=\"_blank\">\n<img alt='Created in deepnote.com' style='display:inline;max-height:16px;margin:0px;margin-right:7.5px;' src='data:image/svg+xml;base64,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' > </img>\nCreated in <span style='font-weight:600;margin-left:4px;'>Deepnote</span></a>",
   "metadata": {
    "tags": [],
    "created_in_deepnote_cell": true,
    "deepnote_cell_type": "markdown"
   }
  }
 ],
 "nbformat": 4,
 "nbformat_minor": 2,
 "metadata": {
  "orig_nbformat": 2,
  "deepnote": {},
  "deepnote_notebook_id": "a2e9e17d-48b4-4596-8751-ad9e22843846",
  "deepnote_execution_queue": []
 }
}